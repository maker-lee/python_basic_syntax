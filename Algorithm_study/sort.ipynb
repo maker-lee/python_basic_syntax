{
 "cells": [
  {
   "attachments": {},
   "cell_type": "markdown",
   "metadata": {},
   "source": [
    "정렬"
   ]
  },
  {
   "attachments": {},
   "cell_type": "markdown",
   "metadata": {},
   "source": [
    "## 버블 정렬\n",
    "버블 정렬의 특징 : 간편하나, 속도가 느리다. \n",
    "버블 정렬은 작은 값부터 큰 값으로 정렬한다. 서로 붙어있는 이웃끼리 값을 비교하여 왼쪽 값이 더 크다면 서로의 값을 뒤바꾼다. 그리고 오른족으로 한 칸 이동하여 리스트의 끝에 도달할때까지 반복한다."
   ]
  },
  {
   "cell_type": "code",
   "execution_count": null,
   "metadata": {},
   "outputs": [],
   "source": [
    "# 버블 정렬의 첫번째 패스\n",
    "list = [25,21,22,24,23,27,26]\n",
    "\n",
    "for i in range(len(list)-1) : # 총 리스트의 개수보다 1적게 왜냐면 마지막거는 비교하지 않아도 괜찮으니까\n",
    "    for j in range(i+1, len(list)) : # 맨 앞에거는 비교할 수 없으니까 빼고 \n",
    "        if list[i] > list[j] : # 만약에 맨앞 > 그옆 이라면 \n",
    "            list[i], list[j] = list[j], list[i] # 변수 두개 위치를 바꿔라 \n",
    "    print(i+1,list) # 그리고 출력해봐봥 \n",
    "# 모든 요소가 오름차순으로 정렬될 때까지 반복한다. 즉 리스트에 N개의 데이터가 있다면 버블 정렬은 N-1번의 패스를 수행한다. \n"
   ]
  },
  {
   "cell_type": "code",
   "execution_count": null,
   "metadata": {},
   "outputs": [],
   "source": [
    "# 함수로 변경\n",
    "def BubbleSort(list) :\n",
    "    lastElementIndex = len(list) -1\n",
    "    for passNo in range(lastElementIndex,0,-1) : \n",
    "        for idx in range(passNo) :\n",
    "            if list[idx] > list[idx+1] :\n",
    "                list[idx], list[idx+1] = list[idx+1], list[idx]\n",
    "    return list\n",
    "\n",
    "print(BubbleSort(list))"
   ]
  },
  {
   "attachments": {},
   "cell_type": "markdown",
   "metadata": {},
   "source": [
    "외부 루프 : Pass 첫번째 패스는 외부 루프를 처음 1회 실행하는 것\n",
    "내부 루프 : 패스 내에서 가장 높은 값을 오른쪽으로 이동시킬때까지의 값들을 반복적으로 비교하는 과정\n",
    "첫번째 패스는 총 N-1번, 두번째 패스는 N-2번으로 패스 횟수가 올라감에 따라서 값을 비교하는 횟수가 하나씩 줄어든다 두개의 루프가 중첩되어 있기 때문에 최악의 시간 복잡도는 O(N제곱)'''"
   ]
  },
  {
   "attachments": {},
   "cell_type": "markdown",
   "metadata": {},
   "source": [
    "## 삽입 정렬\n",
    "자료 구조에서 데이터 포인트를 하나씩 빼내어 올바른 위치에 집어넣는 과정을 반복하는 것이다. \n",
    "첫 단계에서는 맨 왼쪽에 위치한 두 데이터 포인터를 서로 비교하고 값의 크기에 따라 정렬한다.\n",
    "그 다음 범위를 한 칸 확장하여 세번째 데이터 포인트를 가져온다. 앞 단계에서 정렬한 두 개의 값을 이용해 세번째 데이터 포인트의 적절한 위치를 결정하고 이 모든 과정을 포인트가 제 위치에 삽입될 때까지 반복한다. "
   ]
  },
  {
   "cell_type": "code",
   "execution_count": null,
   "metadata": {},
   "outputs": [],
   "source": [
    "def InsertionSort(list) :\n",
    "    for i in range(1,len(list)) :\n",
    "        j = i -1\n",
    "        element_next = list[i]\n",
    "        while (list[j] > element_next) and (j >= 0) : # 여기를 만족하면\n",
    "            list[j+1] = list[j] # 다음 요소의 위치에 현재 요소를 삽입한자 \n",
    "            j = j - 1\n",
    "        list[j+1] = element_next # 자리를 빼앗긴 다음 요소는 while 구문이 끝난 뒤에 위치를 재조정한다.\n",
    "    return list\n",
    "# 리스트 전체를 순회한다. list[j]는 현재 요소를, list[i]는 그 옆에 인접한 다음 요소를 말한다.\n",
    "\n",
    "list = [25,26,22,24,27,23,21]\n",
    "InsertionSort(list)\n",
    "print(list)"
   ]
  },
  {
   "attachments": {},
   "cell_type": "markdown",
   "metadata": {},
   "source": [
    "폰 노이만 정렬\n",
    "노이만 두고보자"
   ]
  },
  {
   "cell_type": "code",
   "execution_count": null,
   "metadata": {},
   "outputs": [],
   "source": [
    "def MergeSort(list_a) :\n",
    "    if len(list_a) > 1 : \n",
    "        mid = len(list_a)//2 # 리스트를 반으로 나눈다\n",
    "        left = list_a[:mid]\n",
    "        right = list_a[mid:]\n",
    "        \n",
    "        \n",
    "        # 나뉜 부분의 크기가 1이 될때까지 반복한다. [1,2,3,4] -> [1][2][3][4]\n",
    "        MergeSort(left)\n",
    "        MergeSort(right)\n",
    "\n",
    "        a = 0 \n",
    "        b = 0\n",
    "        c = 0\n",
    "\n",
    "        while a < len(left) and b < len(right) :\n",
    "            if left[a] < right[b] :\n",
    "                list_a[c] = left[a]\n",
    "                a = a + 1 \n",
    "            else :\n",
    "                list_a[c] = right[b]\n",
    "                b = b + 1\n",
    "            c = c + 1\n",
    "        while a < len(left) :\n",
    "            list_a[c] = left[b]\n",
    "            a = a + 1\n",
    "            c = c + 1\n",
    "        while b < len(right) :\n",
    "            list_a[c] = right[b]\n",
    "            b = b + 1\n",
    "            c = c + 1\n",
    "    return list_a\n",
    "\n",
    "\n",
    "list1 = [44,16,83,7,67,21,34,45,10,1]\n",
    "print(MergeSort(list1))\n",
    "\n",
    "    "
   ]
  },
  {
   "cell_type": "code",
   "execution_count": null,
   "metadata": {},
   "outputs": [],
   "source": []
  },
  {
   "attachments": {},
   "cell_type": "markdown",
   "metadata": {},
   "source": [
    "셸 정렬\n",
    "셸 정렬은 바로 인접한 이웃 대신 고정된 거리만큼 서로 떨어진 데이터 포인트끼리 묶어 이들을 정렬한다. \n",
    "하나의 리스트에 모든 데이터 포인트가 들어갈때까지 반복하다가 정렬 작업을 종료한다. 빅데이터보다는 중간 규모의 데이터셋에 적합(약 6천개)\n",
    "시간 복잡도는 o(N)"
   ]
  },
  {
   "cell_type": "code",
   "execution_count": 1,
   "metadata": {},
   "outputs": [
    {
     "name": "stdout",
     "output_type": "stream",
     "text": [
      "[11, 14, 15, 17, 20, 21, 23, 26, 27, 35, 71]\n"
     ]
    }
   ],
   "source": [
    "def ShellSort(list) :\n",
    "    distance = len(list)//2\n",
    "    while distance > 0 :\n",
    "        for i in range(distance, len(list)) :\n",
    "            temp = list[i]\n",
    "            j = i\n",
    "            # 하위 리스트에 안에 든 요소들을 정렬한다.\n",
    "            while j >= distance and list[j - distance] > temp :\n",
    "                list[j] = list[j - distance]\n",
    "                j = j-distance\n",
    "            list[j] = temp\n",
    "        # 다음 패스를 위해 거리를 반으로 줄인다.\n",
    "        distance = distance//2\n",
    "    return list \n",
    "list = [26,71,20,11,23,21,14,15,35,17,27]\n",
    "ShellSort(list)\n",
    "print(list)"
   ]
  },
  {
   "attachments": {},
   "cell_type": "markdown",
   "metadata": {},
   "source": [
    "선택 정렬 \n",
    "필요한 교환 횟수를 최소화한 버블 정렬의 개량 버전으로 각 패스마다 가장 큰 값을 찾아내 맨 오른쪽으르ㅗ 바로 이동시킨다.\n",
    "첫번쨰 패스가 끝나면 가장 큰 값이 맨 오른쪽에 위치하고 두번쨰 패스가 끝나면 두번째로 큰 값이 오른쪽 두번째에 위치하게 된다. \n",
    "알고리즘이 진행됨에 다라 이후의 값들은 그 크기에 맞는 위치로 옴겨진다. 마지막 값은 N-1번째 패스가 끝난 후에 제 위치로 이동한다. \n",
    "시간복잡도는 O(N2)"
   ]
  },
  {
   "cell_type": "code",
   "execution_count": 2,
   "metadata": {},
   "outputs": [
    {
     "name": "stdout",
     "output_type": "stream",
     "text": [
      "[15, 19, 25, 33, 34, 79]\n"
     ]
    }
   ],
   "source": [
    "def SelectionSort(list) :\n",
    "    for fill_slot in range(len(list)-1,0,-1) :\n",
    "        max_index = 0\n",
    "        for location in range(1,fill_slot +1) :\n",
    "            if list[location] > list[max_index] :\n",
    "                max_index = location\n",
    "        list[fill_slot], list[max_index] = list[max_index], list[fill_slot] \n",
    "    return list \n",
    "list = [79,15,25,19,33,34]\n",
    "SelectionSort(list)\n",
    "print(list)  "
   ]
  }
 ],
 "metadata": {
  "kernelspec": {
   "display_name": "Python 3",
   "language": "python",
   "name": "python3"
  },
  "language_info": {
   "codemirror_mode": {
    "name": "ipython",
    "version": 3
   },
   "file_extension": ".py",
   "mimetype": "text/x-python",
   "name": "python",
   "nbconvert_exporter": "python",
   "pygments_lexer": "ipython3",
   "version": "3.11.1"
  },
  "orig_nbformat": 4
 },
 "nbformat": 4,
 "nbformat_minor": 2
}
