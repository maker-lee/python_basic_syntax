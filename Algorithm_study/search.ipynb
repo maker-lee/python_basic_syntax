{
 "cells": [
  {
   "attachments": {},
   "cell_type": "markdown",
   "metadata": {},
   "source": [
    "## 검색 알고리즘"
   ]
  },
  {
   "attachments": {},
   "cell_type": "markdown",
   "metadata": {},
   "source": [
    "01. 선형검색 \n",
    "검색 대상이 리스트에 존재하면 함수는 True를 반환하고 선형 검색의 시간 복잡도는 O(N)\n",
    "조회한 대상이 찾는 대상이라면 데이터를 반환하고 루프를 종료한다. 단점은 느린 속도, 장점은 데이터 정렬을 하지 않아도 된다는 점."
   ]
  },
  {
   "cell_type": "code",
   "execution_count": 1,
   "metadata": {},
   "outputs": [
    {
     "name": "stdout",
     "output_type": "stream",
     "text": [
      "True\n",
      "False\n"
     ]
    }
   ],
   "source": [
    "def LinearSearch(list,item) :\n",
    "    index = 0 \n",
    "    found = False \n",
    "    # 개별데이터가 조건에 부합하는지 호가인합니다.\n",
    "    while index < len(list) and found is False :\n",
    "        if list[index] == item :\n",
    "            found = True\n",
    "        else :\n",
    "            index = index + 1\n",
    "    return found\n",
    "\n",
    "list = [12,33,11,99,22,55,90]\n",
    "print(LinearSearch(list,12))\n",
    "print(LinearSearch(list,91))\n",
    "\n",
    "\n"
   ]
  }
 ],
 "metadata": {
  "kernelspec": {
   "display_name": "Python 3",
   "language": "python",
   "name": "python3"
  },
  "language_info": {
   "codemirror_mode": {
    "name": "ipython",
    "version": 3
   },
   "file_extension": ".py",
   "mimetype": "text/x-python",
   "name": "python",
   "nbconvert_exporter": "python",
   "pygments_lexer": "ipython3",
   "version": "3.11.1"
  },
  "orig_nbformat": 4
 },
 "nbformat": 4,
 "nbformat_minor": 2
}
